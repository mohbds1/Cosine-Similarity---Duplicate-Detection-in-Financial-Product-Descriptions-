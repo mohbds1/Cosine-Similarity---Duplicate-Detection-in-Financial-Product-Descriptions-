{
 "cells": [
  {
   "cell_type": "markdown",
   "id": "3960ed25",
   "metadata": {},
   "source": [
    "# 📘 A Beginner-Friendly Guide to Similarity & Distance Measures  \n",
    "\n",
    "Similarity and distance measures are crucial in **Machine Learning, Natural Language Processing (NLP), and Recommendation Systems**.  \n",
    "They help us answer an important question:  \n",
    "\n",
    "👉 *“How similar or different are two objects?”*  \n",
    "\n",
    "---\n",
    "\n",
    "## 📌 What Are Similarity Measures?  \n",
    "A **similarity (or distance) measure** quantifies how close or far apart two items are.  \n",
    "\n",
    "They are widely applied in areas such as:  \n",
    "- **Text Mining** → Identifying document or sentence similarity  \n",
    "- **Recommendation Systems** → Finding related users or products  \n",
    "- **Clustering** → Grouping data points with shared characteristics  \n",
    "- **Information Retrieval** → Ranking search results based on relevance  \n",
    "\n",
    "\n",
    "\n",
    "## 💡 Real-World Applications  \n",
    "- **📚 Text Similarity** → Comparing news articles, reviews, or chat messages  \n",
    "- **🛒 Recommendations** → Suggesting similar movies, songs, or products  \n",
    "- **📊 Clustering** → Grouping similar customers, documents, or patterns  \n",
    "- **🔎 Search Engines** → Sorting and ranking results by closeness to a query  \n",
    "\n",
    "\n",
    "\n",
    "## 🧮 Popular Similarity & Distance Measures  \n",
    "\n",
    "### 1️⃣ Cosine Similarity  \n",
    "Focuses on the *angle* between two vectors, ignoring magnitude:  \n",
    "\n",
    "$$\n",
    "Cosine(A, B) = \\frac{A \\cdot B}{\\|A\\|\\|B\\|}\n",
    "$$ \n",
    "\n",
    "- **Range:** -1 to 1  \n",
    "  - **1** → perfectly aligned (very similar)  \n",
    "  - **0** → orthogonal (no similarity)  \n",
    "  - **-1** → opposite directions  \n",
    "\n",
    "\n",
    "\n",
    "### 2️⃣ Jaccard Similarity  \n",
    "Compares **set overlap**:  \n",
    "\n",
    "$$\n",
    "J(A, B) = \\frac{|A \\cap B|}{|A \\cup B|}\n",
    "$$  \n",
    "\n",
    "- **Range:** 0 to 1  \n",
    "  - **1** → identical sets  \n",
    "  - **0** → no overlap  \n",
    "\n",
    "\n",
    "\n",
    "### 3️⃣ Euclidean Distance  \n",
    "Measures the *straight-line distance* between two points:  \n",
    "\n",
    "$$\n",
    "d(p, q) = \\sqrt{\\sum_{i=1}^{n}(p_i - q_i)^2}\n",
    "$$ \n",
    "\n",
    "✅ **Smaller values → Higher similarity**\n",
    "\n",
    "\n",
    "### 4️⃣ Manhattan Distance (L1 Norm)  \n",
    "Measures the *absolute differences* between coordinates:  \n",
    "\n",
    "$$\n",
    "d(p, q) = \\sum_{i=1}^{n} |p_i - q_i|\n",
    "$$ \n",
    "\n",
    "👉 Imagine moving block by block along a city grid.  \n",
    "\n",
    "\n",
    "\n",
    "## 🧠 How Do We Use These Measures?  \n",
    "1. Represent data objects (e.g., users, text, images) as **vectors or sets**  \n",
    "2. Choose the **right similarity/distance metric** for your task  \n",
    "3. Compute pairwise similarities/distances  \n",
    "4. Apply results to tasks such as:  \n",
    "   - **Ranking** → Search engines  \n",
    "   - **Clustering** → Machine learning algorithms  \n",
    "   - **Matching** → Recommendation engines  \n",
    "\n",
    "\n",
    "\n",
    "## ✅ Choosing the Right Measure  \n",
    "\n",
    "| Measure          | Best Suited For |\n",
    "|------------------|-----------------|\n",
    "| **Euclidean**    | Continuous, numerical data |\n",
    "| **Cosine**       | Text embeddings, high-dimensional vectors |\n",
    "| **Jaccard**      | Sets, categorical or binary features |\n",
    "| **Manhattan**    | Grid-like or sparse data |\n",
    "\n",
    "\n",
    "\n",
    "✨ **Takeaway:** Similarity and distance measures are the foundation of comparing, grouping, and recommending information in intelligent systems.  \n"
   ]
  },
  {
   "cell_type": "markdown",
   "id": "1d96aa19",
   "metadata": {},
   "source": [
    "# 🚀 Up Next: Real Example with Cosine Similarity  \n",
    "\n",
    "Now that we’ve learned about Cosine Similarity, let’s apply it to **text documents** to measure how close their meanings are.  \n"
   ]
  },
  {
   "cell_type": "markdown",
   "id": "7c91a4b4",
   "metadata": {},
   "source": [
    "### 📘 Measuring Text Similarity with Cosine Similarity  \n",
    "\n",
    "Cosine similarity is one of the most popular ways to measure text similarity.  \n",
    "It looks at the **angle between two vectors**, ignoring their magnitude.  \n",
    "\n",
    "- **1.0** → very similar  \n",
    "- **0.0** → no similarity  \n",
    "- **-1.0** → opposite (rare in text TF-IDF)  \n",
    "\n",
    "We’ll apply cosine similarity on a dataset of financial product descriptions,  \n",
    "then use it to **detect near-duplicate pairs**.  \n"
   ]
  },
  {
   "cell_type": "markdown",
   "id": "1e364e80",
   "metadata": {},
   "source": [
    "### 📂 Step 1: Load Dataset"
   ]
  },
  {
   "cell_type": "code",
   "execution_count": 8,
   "id": "659895e0",
   "metadata": {},
   "outputs": [
    {
     "data": {
      "application/vnd.microsoft.datawrangler.viewer.v0+json": {
       "columns": [
        {
         "name": "index",
         "rawType": "int64",
         "type": "integer"
        },
        {
         "name": "test_id",
         "rawType": "int64",
         "type": "integer"
        },
        {
         "name": "description_x",
         "rawType": "object",
         "type": "string"
        },
        {
         "name": "description_y",
         "rawType": "object",
         "type": "string"
        },
        {
         "name": "same_security",
         "rawType": "float64",
         "type": "float"
        }
       ],
       "ref": "630d707a-427e-4e0d-bb85-95e4a710f051",
       "rows": [
        [
         "0",
         "0",
         "semtech corp",
         "semtech corporation",
         null
        ],
        [
         "1",
         "1",
         "vanguard mid cap index",
         "vanguard midcap index - a",
         null
        ],
        [
         "2",
         "2",
         "spdr gold trust gold shares",
         "spdr gold trust spdr gold shares",
         null
        ],
        [
         "3",
         "3",
         "vanguard total bond index adm",
         "vanguard total bond market index",
         null
        ],
        [
         "4",
         "4",
         "oakmark international fund class i",
         "oakmark international cl i",
         null
        ]
       ],
       "shape": {
        "columns": 4,
        "rows": 5
       }
      },
      "text/html": [
       "<div>\n",
       "<style scoped>\n",
       "    .dataframe tbody tr th:only-of-type {\n",
       "        vertical-align: middle;\n",
       "    }\n",
       "\n",
       "    .dataframe tbody tr th {\n",
       "        vertical-align: top;\n",
       "    }\n",
       "\n",
       "    .dataframe thead th {\n",
       "        text-align: right;\n",
       "    }\n",
       "</style>\n",
       "<table border=\"1\" class=\"dataframe\">\n",
       "  <thead>\n",
       "    <tr style=\"text-align: right;\">\n",
       "      <th></th>\n",
       "      <th>test_id</th>\n",
       "      <th>description_x</th>\n",
       "      <th>description_y</th>\n",
       "      <th>same_security</th>\n",
       "    </tr>\n",
       "  </thead>\n",
       "  <tbody>\n",
       "    <tr>\n",
       "      <th>0</th>\n",
       "      <td>0</td>\n",
       "      <td>semtech corp</td>\n",
       "      <td>semtech corporation</td>\n",
       "      <td>NaN</td>\n",
       "    </tr>\n",
       "    <tr>\n",
       "      <th>1</th>\n",
       "      <td>1</td>\n",
       "      <td>vanguard mid cap index</td>\n",
       "      <td>vanguard midcap index - a</td>\n",
       "      <td>NaN</td>\n",
       "    </tr>\n",
       "    <tr>\n",
       "      <th>2</th>\n",
       "      <td>2</td>\n",
       "      <td>spdr gold trust gold shares</td>\n",
       "      <td>spdr gold trust spdr gold shares</td>\n",
       "      <td>NaN</td>\n",
       "    </tr>\n",
       "    <tr>\n",
       "      <th>3</th>\n",
       "      <td>3</td>\n",
       "      <td>vanguard total bond index adm</td>\n",
       "      <td>vanguard total bond market index</td>\n",
       "      <td>NaN</td>\n",
       "    </tr>\n",
       "    <tr>\n",
       "      <th>4</th>\n",
       "      <td>4</td>\n",
       "      <td>oakmark international fund class i</td>\n",
       "      <td>oakmark international cl i</td>\n",
       "      <td>NaN</td>\n",
       "    </tr>\n",
       "  </tbody>\n",
       "</table>\n",
       "</div>"
      ],
      "text/plain": [
       "   test_id                       description_x  \\\n",
       "0        0                        semtech corp   \n",
       "1        1              vanguard mid cap index   \n",
       "2        2         spdr gold trust gold shares   \n",
       "3        3       vanguard total bond index adm   \n",
       "4        4  oakmark international fund class i   \n",
       "\n",
       "                      description_y  same_security  \n",
       "0               semtech corporation            NaN  \n",
       "1         vanguard midcap index - a            NaN  \n",
       "2  spdr gold trust spdr gold shares            NaN  \n",
       "3  vanguard total bond market index            NaN  \n",
       "4        oakmark international cl i            NaN  "
      ]
     },
     "execution_count": 8,
     "metadata": {},
     "output_type": "execute_result"
    }
   ],
   "source": [
    "\n",
    "import pandas as pd\n",
    "\n",
    "# Load dataset\n",
    "df = pd.read_csv(\"test.csv\")\n",
    "\n",
    "# Preview first rows\n",
    "df.head()\n"
   ]
  },
  {
   "cell_type": "markdown",
   "id": "107ef708",
   "metadata": {},
   "source": [
    "### 🔎 Step 2: Vectorize Text with TF-IDF  \n",
    "\n",
    "We’ll convert text into numeric vectors using **TF-IDF (Term Frequency – Inverse Document Frequency)**.  \n"
   ]
  },
  {
   "cell_type": "code",
   "execution_count": 9,
   "id": "928c0d55",
   "metadata": {},
   "outputs": [
    {
     "data": {
      "application/vnd.microsoft.datawrangler.viewer.v0+json": {
       "columns": [
        {
         "name": "index",
         "rawType": "int64",
         "type": "integer"
        },
        {
         "name": "description_x",
         "rawType": "object",
         "type": "string"
        },
        {
         "name": "description_y",
         "rawType": "object",
         "type": "string"
        },
        {
         "name": "cosine_similarity",
         "rawType": "float64",
         "type": "float"
        }
       ],
       "ref": "56075ba0-6854-4959-a194-89f7d2c2600a",
       "rows": [
        [
         "0",
         "semtech corp",
         "semtech corporation",
         "0.673421550204589"
        ],
        [
         "1",
         "vanguard mid cap index",
         "vanguard midcap index - a",
         "0.30745571294153073"
        ],
        [
         "2",
         "spdr gold trust gold shares",
         "spdr gold trust spdr gold shares",
         "0.958084565030606"
        ],
        [
         "3",
         "vanguard total bond index adm",
         "vanguard total bond market index",
         "0.7152941133041348"
        ],
        [
         "4",
         "oakmark international fund class i",
         "oakmark international cl i",
         "0.758910874909692"
        ]
       ],
       "shape": {
        "columns": 3,
        "rows": 5
       }
      },
      "text/html": [
       "<div>\n",
       "<style scoped>\n",
       "    .dataframe tbody tr th:only-of-type {\n",
       "        vertical-align: middle;\n",
       "    }\n",
       "\n",
       "    .dataframe tbody tr th {\n",
       "        vertical-align: top;\n",
       "    }\n",
       "\n",
       "    .dataframe thead th {\n",
       "        text-align: right;\n",
       "    }\n",
       "</style>\n",
       "<table border=\"1\" class=\"dataframe\">\n",
       "  <thead>\n",
       "    <tr style=\"text-align: right;\">\n",
       "      <th></th>\n",
       "      <th>description_x</th>\n",
       "      <th>description_y</th>\n",
       "      <th>cosine_similarity</th>\n",
       "    </tr>\n",
       "  </thead>\n",
       "  <tbody>\n",
       "    <tr>\n",
       "      <th>0</th>\n",
       "      <td>semtech corp</td>\n",
       "      <td>semtech corporation</td>\n",
       "      <td>0.673422</td>\n",
       "    </tr>\n",
       "    <tr>\n",
       "      <th>1</th>\n",
       "      <td>vanguard mid cap index</td>\n",
       "      <td>vanguard midcap index - a</td>\n",
       "      <td>0.307456</td>\n",
       "    </tr>\n",
       "    <tr>\n",
       "      <th>2</th>\n",
       "      <td>spdr gold trust gold shares</td>\n",
       "      <td>spdr gold trust spdr gold shares</td>\n",
       "      <td>0.958085</td>\n",
       "    </tr>\n",
       "    <tr>\n",
       "      <th>3</th>\n",
       "      <td>vanguard total bond index adm</td>\n",
       "      <td>vanguard total bond market index</td>\n",
       "      <td>0.715294</td>\n",
       "    </tr>\n",
       "    <tr>\n",
       "      <th>4</th>\n",
       "      <td>oakmark international fund class i</td>\n",
       "      <td>oakmark international cl i</td>\n",
       "      <td>0.758911</td>\n",
       "    </tr>\n",
       "  </tbody>\n",
       "</table>\n",
       "</div>"
      ],
      "text/plain": [
       "                        description_x                     description_y  \\\n",
       "0                        semtech corp               semtech corporation   \n",
       "1              vanguard mid cap index         vanguard midcap index - a   \n",
       "2         spdr gold trust gold shares  spdr gold trust spdr gold shares   \n",
       "3       vanguard total bond index adm  vanguard total bond market index   \n",
       "4  oakmark international fund class i        oakmark international cl i   \n",
       "\n",
       "   cosine_similarity  \n",
       "0           0.673422  \n",
       "1           0.307456  \n",
       "2           0.958085  \n",
       "3           0.715294  \n",
       "4           0.758911  "
      ]
     },
     "execution_count": 9,
     "metadata": {},
     "output_type": "execute_result"
    }
   ],
   "source": [
    "from sklearn.feature_extraction.text import TfidfVectorizer\n",
    "from sklearn.metrics.pairwise import cosine_similarity\n",
    "\n",
    "# Initialize TF-IDF vectorizer\n",
    "vectorizer = TfidfVectorizer()\n",
    "\n",
    "# Fit on description_x and transform both columns\n",
    "tfidf_x = vectorizer.fit_transform(df[\"description_x\"])\n",
    "tfidf_y = vectorizer.transform(df[\"description_y\"])\n",
    "\n",
    "# Compute cosine similarity row by row\n",
    "cosine_scores = [cosine_similarity(tfidf_x[i], tfidf_y[i])[0,0] for i in range(len(df))]\n",
    "df[\"cosine_similarity\"] = cosine_scores\n",
    "\n",
    "# Show first results\n",
    "df[[\"description_x\", \"description_y\", \"cosine_similarity\"]].head()\n"
   ]
  },
  {
   "cell_type": "markdown",
   "id": "b53a06b9",
   "metadata": {},
   "source": [
    "### 📊 Step 3: Distribution of Cosine Similarities  \n",
    "\n",
    "Let’s visualize how similarity scores are distributed across the dataset.  \n"
   ]
  },
  {
   "cell_type": "code",
   "execution_count": 10,
   "id": "1cca5488",
   "metadata": {},
   "outputs": [
    {
     "data": {
      "image/png": "[encoded data removed]",
      "text/plain": [
       "<Figure size 640x480 with 1 Axes>"
      ]
     },
     "metadata": {},
     "output_type": "display_data"
    }
   ],
   "source": [
    "import matplotlib.pyplot as plt\n",
    "\n",
    "plt.hist(df[\"cosine_similarity\"], bins=30, edgecolor=\"black\")\n",
    "plt.title(\"Distribution of Cosine Similarity Scores\")\n",
    "plt.xlabel(\"Cosine Similarity\")\n",
    "plt.ylabel(\"Frequency\")\n",
    "plt.show()\n"
   ]
  },
  {
   "cell_type": "markdown",
   "id": "f697d63c",
   "metadata": {},
   "source": [
    "### 🏆 Step 4: Most Similar Pairs  \n",
    "\n",
    "Let’s find the **top 5 most similar text pairs**.  \n"
   ]
  },
  {
   "cell_type": "code",
   "execution_count": 11,
   "id": "8bd782e0",
   "metadata": {},
   "outputs": [
    {
     "data": {
      "application/vnd.microsoft.datawrangler.viewer.v0+json": {
       "columns": [
        {
         "name": "index",
         "rawType": "int64",
         "type": "integer"
        },
        {
         "name": "description_x",
         "rawType": "object",
         "type": "string"
        },
        {
         "name": "description_y",
         "rawType": "object",
         "type": "string"
        },
        {
         "name": "cosine_similarity",
         "rawType": "float64",
         "type": "float"
        }
       ],
       "ref": "ca7b4c6a-e81e-4f7e-82e2-0611152f1dbe",
       "rows": [
        [
         "394",
         "kimberly-clark corp",
         "kimberly-clark corp.",
         "1.0000000000000002"
        ],
        [
         "299",
         "citrix systems inc.",
         "citrix systems inc",
         "1.0000000000000002"
        ],
        [
         "313",
         "nxp semiconductors f",
         "nxp semiconductors n v",
         "1.0000000000000002"
        ],
        [
         "126",
         "vanguard mid-cap value etf",
         "vanguard mid cap value etf",
         "1.0000000000000002"
        ],
        [
         "367",
         "the growth fund of america",
         "the growth fund of america-529a (1005)",
         "1.0"
        ]
       ],
       "shape": {
        "columns": 3,
        "rows": 5
       }
      },
      "text/html": [
       "<div>\n",
       "<style scoped>\n",
       "    .dataframe tbody tr th:only-of-type {\n",
       "        vertical-align: middle;\n",
       "    }\n",
       "\n",
       "    .dataframe tbody tr th {\n",
       "        vertical-align: top;\n",
       "    }\n",
       "\n",
       "    .dataframe thead th {\n",
       "        text-align: right;\n",
       "    }\n",
       "</style>\n",
       "<table border=\"1\" class=\"dataframe\">\n",
       "  <thead>\n",
       "    <tr style=\"text-align: right;\">\n",
       "      <th></th>\n",
       "      <th>description_x</th>\n",
       "      <th>description_y</th>\n",
       "      <th>cosine_similarity</th>\n",
       "    </tr>\n",
       "  </thead>\n",
       "  <tbody>\n",
       "    <tr>\n",
       "      <th>394</th>\n",
       "      <td>kimberly-clark corp</td>\n",
       "      <td>kimberly-clark corp.</td>\n",
       "      <td>1.0</td>\n",
       "    </tr>\n",
       "    <tr>\n",
       "      <th>299</th>\n",
       "      <td>citrix systems inc.</td>\n",
       "      <td>citrix systems inc</td>\n",
       "      <td>1.0</td>\n",
       "    </tr>\n",
       "    <tr>\n",
       "      <th>313</th>\n",
       "      <td>nxp semiconductors f</td>\n",
       "      <td>nxp semiconductors n v</td>\n",
       "      <td>1.0</td>\n",
       "    </tr>\n",
       "    <tr>\n",
       "      <th>126</th>\n",
       "      <td>vanguard mid-cap value etf</td>\n",
       "      <td>vanguard mid cap value etf</td>\n",
       "      <td>1.0</td>\n",
       "    </tr>\n",
       "    <tr>\n",
       "      <th>367</th>\n",
       "      <td>the growth fund of america</td>\n",
       "      <td>the growth fund of america-529a (1005)</td>\n",
       "      <td>1.0</td>\n",
       "    </tr>\n",
       "  </tbody>\n",
       "</table>\n",
       "</div>"
      ],
      "text/plain": [
       "                  description_x                           description_y  \\\n",
       "394         kimberly-clark corp                    kimberly-clark corp.   \n",
       "299         citrix systems inc.                      citrix systems inc   \n",
       "313        nxp semiconductors f                  nxp semiconductors n v   \n",
       "126  vanguard mid-cap value etf              vanguard mid cap value etf   \n",
       "367  the growth fund of america  the growth fund of america-529a (1005)   \n",
       "\n",
       "     cosine_similarity  \n",
       "394                1.0  \n",
       "299                1.0  \n",
       "313                1.0  \n",
       "126                1.0  \n",
       "367                1.0  "
      ]
     },
     "execution_count": 11,
     "metadata": {},
     "output_type": "execute_result"
    }
   ],
   "source": [
    "# Sort descending by similarity\n",
    "most_similar = df.sort_values(by=\"cosine_similarity\", ascending=False).head(5)\n",
    "most_similar[[\"description_x\", \"description_y\", \"cosine_similarity\"]]\n"
   ]
  },
  {
   "cell_type": "markdown",
   "id": "1f5601c1",
   "metadata": {},
   "source": [
    "### ❌ Step 5: Least Similar Pairs  \n",
    "\n",
    "Let’s find the **bottom 5 least similar text pairs**.  \n"
   ]
  },
  {
   "cell_type": "code",
   "execution_count": 12,
   "id": "77724c85",
   "metadata": {},
   "outputs": [
    {
     "data": {
      "application/vnd.microsoft.datawrangler.viewer.v0+json": {
       "columns": [
        {
         "name": "index",
         "rawType": "int64",
         "type": "integer"
        },
        {
         "name": "description_x",
         "rawType": "object",
         "type": "string"
        },
        {
         "name": "description_y",
         "rawType": "object",
         "type": "string"
        },
        {
         "name": "cosine_similarity",
         "rawType": "float64",
         "type": "float"
        }
       ],
       "ref": "d5d46d68-59bf-496a-9112-2c2fbd04ad74",
       "rows": [
        [
         "22",
         "vanguard total bond market idx-adm",
         "vang tot bd mk is pl",
         "0.0"
        ],
        [
         "37",
         "vanguard intermediate-term treasury fund admiral shares",
         "vang intm treas adm",
         "0.0"
        ],
        [
         "51",
         "oppenhmr develpng mkts y",
         "oppenheimer developing markets cl y",
         "0.0"
        ],
        [
         "477",
         "vang tot bd mkt adm",
         "vanguard ttl bnd mrk indx inst",
         "0.0"
        ],
        [
         "416",
         "vang tot bd mkt adm",
         "vanguard total bond market index",
         "0.0"
        ]
       ],
       "shape": {
        "columns": 3,
        "rows": 5
       }
      },
      "text/html": [
       "<div>\n",
       "<style scoped>\n",
       "    .dataframe tbody tr th:only-of-type {\n",
       "        vertical-align: middle;\n",
       "    }\n",
       "\n",
       "    .dataframe tbody tr th {\n",
       "        vertical-align: top;\n",
       "    }\n",
       "\n",
       "    .dataframe thead th {\n",
       "        text-align: right;\n",
       "    }\n",
       "</style>\n",
       "<table border=\"1\" class=\"dataframe\">\n",
       "  <thead>\n",
       "    <tr style=\"text-align: right;\">\n",
       "      <th></th>\n",
       "      <th>description_x</th>\n",
       "      <th>description_y</th>\n",
       "      <th>cosine_similarity</th>\n",
       "    </tr>\n",
       "  </thead>\n",
       "  <tbody>\n",
       "    <tr>\n",
       "      <th>22</th>\n",
       "      <td>vanguard total bond market idx-adm</td>\n",
       "      <td>vang tot bd mk is pl</td>\n",
       "      <td>0.0</td>\n",
       "    </tr>\n",
       "    <tr>\n",
       "      <th>37</th>\n",
       "      <td>vanguard intermediate-term treasury fund admir...</td>\n",
       "      <td>vang intm treas adm</td>\n",
       "      <td>0.0</td>\n",
       "    </tr>\n",
       "    <tr>\n",
       "      <th>51</th>\n",
       "      <td>oppenhmr develpng mkts y</td>\n",
       "      <td>oppenheimer developing markets cl y</td>\n",
       "      <td>0.0</td>\n",
       "    </tr>\n",
       "    <tr>\n",
       "      <th>477</th>\n",
       "      <td>vang tot bd mkt adm</td>\n",
       "      <td>vanguard ttl bnd mrk indx inst</td>\n",
       "      <td>0.0</td>\n",
       "    </tr>\n",
       "    <tr>\n",
       "      <th>416</th>\n",
       "      <td>vang tot bd mkt adm</td>\n",
       "      <td>vanguard total bond market index</td>\n",
       "      <td>0.0</td>\n",
       "    </tr>\n",
       "  </tbody>\n",
       "</table>\n",
       "</div>"
      ],
      "text/plain": [
       "                                         description_x  \\\n",
       "22                  vanguard total bond market idx-adm   \n",
       "37   vanguard intermediate-term treasury fund admir...   \n",
       "51                            oppenhmr develpng mkts y   \n",
       "477                                vang tot bd mkt adm   \n",
       "416                                vang tot bd mkt adm   \n",
       "\n",
       "                           description_y  cosine_similarity  \n",
       "22                  vang tot bd mk is pl                0.0  \n",
       "37                   vang intm treas adm                0.0  \n",
       "51   oppenheimer developing markets cl y                0.0  \n",
       "477       vanguard ttl bnd mrk indx inst                0.0  \n",
       "416     vanguard total bond market index                0.0  "
      ]
     },
     "execution_count": 12,
     "metadata": {},
     "output_type": "execute_result"
    }
   ],
   "source": [
    "# Sort ascending by similarity\n",
    "least_similar = df.sort_values(by=\"cosine_similarity\", ascending=True).head(5)\n",
    "least_similar[[\"description_x\", \"description_y\", \"cosine_similarity\"]]\n"
   ]
  },
  {
   "cell_type": "markdown",
   "id": "6e54be87",
   "metadata": {},
   "source": [
    "### ⚖️ Step 6: Thresholding for Duplicate Detection  \n",
    "\n",
    "We’ll define a threshold:  \n",
    "\n",
    "- **cosine ≥ 0.8** → \"Similar\" (likely duplicate)  \n",
    "- **cosine < 0.8** → \"Not Similar\"  \n"
   ]
  },
  {
   "cell_type": "code",
   "execution_count": 13,
   "id": "2f802ad9",
   "metadata": {},
   "outputs": [
    {
     "data": {
      "application/vnd.microsoft.datawrangler.viewer.v0+json": {
       "columns": [
        {
         "name": "index",
         "rawType": "int64",
         "type": "integer"
        },
        {
         "name": "description_x",
         "rawType": "object",
         "type": "string"
        },
        {
         "name": "description_y",
         "rawType": "object",
         "type": "string"
        },
        {
         "name": "cosine_similarity",
         "rawType": "float64",
         "type": "float"
        },
        {
         "name": "similar_flag",
         "rawType": "object",
         "type": "string"
        }
       ],
       "ref": "1390c178-e19a-4543-92e0-c212a0b1b594",
       "rows": [
        [
         "0",
         "semtech corp",
         "semtech corporation",
         "0.673421550204589",
         "Not Similar"
        ],
        [
         "1",
         "vanguard mid cap index",
         "vanguard midcap index - a",
         "0.30745571294153073",
         "Not Similar"
        ],
        [
         "2",
         "spdr gold trust gold shares",
         "spdr gold trust spdr gold shares",
         "0.958084565030606",
         "Similar"
        ],
        [
         "3",
         "vanguard total bond index adm",
         "vanguard total bond market index",
         "0.7152941133041348",
         "Not Similar"
        ],
        [
         "4",
         "oakmark international fund class i",
         "oakmark international cl i",
         "0.758910874909692",
         "Not Similar"
        ],
        [
         "5",
         "pfizer inc div: 1.200",
         "pfizer inc com",
         "0.6158866953996156",
         "Not Similar"
        ],
        [
         "6",
         "spartan global ex us index fid adv cl",
         "sptn glb xus idx adv",
         "0.17232536712327268",
         "Not Similar"
        ],
        [
         "7",
         "vanguard total bond market idx-adm",
         "vanguard total bond market index fund investor shares",
         "0.5053274667441516",
         "Not Similar"
        ],
        [
         "8",
         "banco latinoamericano de exportacio class e com stk npv",
         "banco latinoamericano come-e",
         "0.5658769084353096",
         "Not Similar"
        ],
        [
         "9",
         "baidu inc fadr 1 adr reps 0.1 ord shs",
         "baidu inc spons ads repr 0.10 ord cls a us0.00005",
         "0.27719145983632076",
         "Not Similar"
        ]
       ],
       "shape": {
        "columns": 4,
        "rows": 10
       }
      },
      "text/html": [
       "<div>\n",
       "<style scoped>\n",
       "    .dataframe tbody tr th:only-of-type {\n",
       "        vertical-align: middle;\n",
       "    }\n",
       "\n",
       "    .dataframe tbody tr th {\n",
       "        vertical-align: top;\n",
       "    }\n",
       "\n",
       "    .dataframe thead th {\n",
       "        text-align: right;\n",
       "    }\n",
       "</style>\n",
       "<table border=\"1\" class=\"dataframe\">\n",
       "  <thead>\n",
       "    <tr style=\"text-align: right;\">\n",
       "      <th></th>\n",
       "      <th>description_x</th>\n",
       "      <th>description_y</th>\n",
       "      <th>cosine_similarity</th>\n",
       "      <th>similar_flag</th>\n",
       "    </tr>\n",
       "  </thead>\n",
       "  <tbody>\n",
       "    <tr>\n",
       "      <th>0</th>\n",
       "      <td>semtech corp</td>\n",
       "      <td>semtech corporation</td>\n",
       "      <td>0.673422</td>\n",
       "      <td>Not Similar</td>\n",
       "    </tr>\n",
       "    <tr>\n",
       "      <th>1</th>\n",
       "      <td>vanguard mid cap index</td>\n",
       "      <td>vanguard midcap index - a</td>\n",
       "      <td>0.307456</td>\n",
       "      <td>Not Similar</td>\n",
       "    </tr>\n",
       "    <tr>\n",
       "      <th>2</th>\n",
       "      <td>spdr gold trust gold shares</td>\n",
       "      <td>spdr gold trust spdr gold shares</td>\n",
       "      <td>0.958085</td>\n",
       "      <td>Similar</td>\n",
       "    </tr>\n",
       "    <tr>\n",
       "      <th>3</th>\n",
       "      <td>vanguard total bond index adm</td>\n",
       "      <td>vanguard total bond market index</td>\n",
       "      <td>0.715294</td>\n",
       "      <td>Not Similar</td>\n",
       "    </tr>\n",
       "    <tr>\n",
       "      <th>4</th>\n",
       "      <td>oakmark international fund class i</td>\n",
       "      <td>oakmark international cl i</td>\n",
       "      <td>0.758911</td>\n",
       "      <td>Not Similar</td>\n",
       "    </tr>\n",
       "    <tr>\n",
       "      <th>5</th>\n",
       "      <td>pfizer inc div: 1.200</td>\n",
       "      <td>pfizer inc com</td>\n",
       "      <td>0.615887</td>\n",
       "      <td>Not Similar</td>\n",
       "    </tr>\n",
       "    <tr>\n",
       "      <th>6</th>\n",
       "      <td>spartan global ex us index fid adv cl</td>\n",
       "      <td>sptn glb xus idx adv</td>\n",
       "      <td>0.172325</td>\n",
       "      <td>Not Similar</td>\n",
       "    </tr>\n",
       "    <tr>\n",
       "      <th>7</th>\n",
       "      <td>vanguard total bond market idx-adm</td>\n",
       "      <td>vanguard total bond market index fund investor...</td>\n",
       "      <td>0.505327</td>\n",
       "      <td>Not Similar</td>\n",
       "    </tr>\n",
       "    <tr>\n",
       "      <th>8</th>\n",
       "      <td>banco latinoamericano de exportacio class e co...</td>\n",
       "      <td>banco latinoamericano come-e</td>\n",
       "      <td>0.565877</td>\n",
       "      <td>Not Similar</td>\n",
       "    </tr>\n",
       "    <tr>\n",
       "      <th>9</th>\n",
       "      <td>baidu inc fadr 1 adr reps 0.1 ord shs</td>\n",
       "      <td>baidu inc spons ads repr 0.10 ord cls a us0.00005</td>\n",
       "      <td>0.277191</td>\n",
       "      <td>Not Similar</td>\n",
       "    </tr>\n",
       "  </tbody>\n",
       "</table>\n",
       "</div>"
      ],
      "text/plain": [
       "                                       description_x  \\\n",
       "0                                       semtech corp   \n",
       "1                             vanguard mid cap index   \n",
       "2                        spdr gold trust gold shares   \n",
       "3                      vanguard total bond index adm   \n",
       "4                 oakmark international fund class i   \n",
       "5                              pfizer inc div: 1.200   \n",
       "6              spartan global ex us index fid adv cl   \n",
       "7                 vanguard total bond market idx-adm   \n",
       "8  banco latinoamericano de exportacio class e co...   \n",
       "9              baidu inc fadr 1 adr reps 0.1 ord shs   \n",
       "\n",
       "                                       description_y  cosine_similarity  \\\n",
       "0                                semtech corporation           0.673422   \n",
       "1                          vanguard midcap index - a           0.307456   \n",
       "2                   spdr gold trust spdr gold shares           0.958085   \n",
       "3                   vanguard total bond market index           0.715294   \n",
       "4                         oakmark international cl i           0.758911   \n",
       "5                                     pfizer inc com           0.615887   \n",
       "6                               sptn glb xus idx adv           0.172325   \n",
       "7  vanguard total bond market index fund investor...           0.505327   \n",
       "8                       banco latinoamericano come-e           0.565877   \n",
       "9  baidu inc spons ads repr 0.10 ord cls a us0.00005           0.277191   \n",
       "\n",
       "  similar_flag  \n",
       "0  Not Similar  \n",
       "1  Not Similar  \n",
       "2      Similar  \n",
       "3  Not Similar  \n",
       "4  Not Similar  \n",
       "5  Not Similar  \n",
       "6  Not Similar  \n",
       "7  Not Similar  \n",
       "8  Not Similar  \n",
       "9  Not Similar  "
      ]
     },
     "execution_count": 13,
     "metadata": {},
     "output_type": "execute_result"
    }
   ],
   "source": [
    "# Apply threshold\n",
    "threshold = 0.8\n",
    "df[\"similar_flag\"] = df[\"cosine_similarity\"].apply(lambda x: \"Similar\" if x >= threshold else \"Not Similar\")\n",
    "\n",
    "# Show a sample\n",
    "df[[\"description_x\", \"description_y\", \"cosine_similarity\", \"similar_flag\"]].head(10)"
   ]
  },
  {
   "cell_type": "markdown",
   "id": "3498cca1",
   "metadata": {},
   "source": [
    "### 📊 Step 7: Summary of Results  \n",
    "\n",
    "Let’s count how many pairs were flagged as **Similar vs Not Similar**.  \n"
   ]
  },
  {
   "cell_type": "code",
   "execution_count": 14,
   "id": "366e0d41",
   "metadata": {},
   "outputs": [
    {
     "data": {
      "application/vnd.microsoft.datawrangler.viewer.v0+json": {
       "columns": [
        {
         "name": "similar_flag",
         "rawType": "object",
         "type": "string"
        },
        {
         "name": "count",
         "rawType": "int64",
         "type": "integer"
        }
       ],
       "ref": "69c05c7c-f330-42ee-b807-d8830d0540f7",
       "rows": [
        [
         "Not Similar",
         "409"
        ],
        [
         "Similar",
         "107"
        ]
       ],
       "shape": {
        "columns": 1,
        "rows": 2
       }
      },
      "text/plain": [
       "similar_flag\n",
       "Not Similar    409\n",
       "Similar        107\n",
       "Name: count, dtype: int64"
      ]
     },
     "execution_count": 14,
     "metadata": {},
     "output_type": "execute_result"
    }
   ],
   "source": [
    "summary_counts = df[\"similar_flag\"].value_counts()\n",
    "summary_counts\n"
   ]
  },
  {
   "cell_type": "markdown",
   "id": "20b86399",
   "metadata": {},
   "source": [
    "### 💾 Step 8: Export Results  \n",
    "\n",
    "We’ll save the dataframe (with cosine scores + flags) into a new CSV for further analysis.  \n"
   ]
  },
  {
   "cell_type": "code",
   "execution_count": null,
   "id": "ce7eb009",
   "metadata": {},
   "outputs": [
    {
     "data": {
      "text/plain": [
       "'similarity_results.csv'"
      ]
     },
     "execution_count": 15,
     "metadata": {},
     "output_type": "execute_result"
    }
   ],
   "source": [
    "# Save to CSV\n",
    "output_path = \"similarity_results.csv\"\n",
    "df.to_csv(output_path, index=False)\n",
    "\n",
    "output_path"
   ]
  },
  {
   "cell_type": "markdown",
   "id": "06b55655",
   "metadata": {},
   "source": [
    "## ✅ Final Takeaways  \n",
    "\n",
    "- **Cosine similarity** is a powerful way to compare text.  \n",
    "- The **distribution plot** shows overall similarity across the dataset.  \n",
    "- **Top/least pairs** help inspect edge cases.  \n",
    "- A **threshold** makes the method practical for:  \n",
    "  - Duplicate detection  \n",
    "  - Record linkage  \n",
    "  - Cleaning product databases  \n",
    "- Exporting results gives a **ready-to-use file** with similarity scores and labels.  \n"
   ]
  }
 ],
 "metadata": {
  "kernelspec": {
   "display_name": "Python 3",
   "language": "python",
   "name": "python3"
  },
  "language_info": {
   "codemirror_mode": {
    "name": "ipython",
    "version": 3
   },
   "file_extension": ".py",
   "mimetype": "text/x-python",
   "name": "python",
   "nbconvert_exporter": "python",
   "pygments_lexer": "ipython3",
   "version": "3.11.9"
  }
 },
 "nbformat": 4,
 "nbformat_minor": 5
}
